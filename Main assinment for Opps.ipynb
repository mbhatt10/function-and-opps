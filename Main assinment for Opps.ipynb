{
 "cells": [
  {
   "cell_type": "markdown",
   "id": "33e5d4ac-bcbc-4370-b93f-f6ee69249611",
   "metadata": {
    "jp-MarkdownHeadingCollapsed": true,
    "tags": []
   },
   "source": [
    "# 1 Explain the imporatnce of function "
   ]
  },
  {
   "cell_type": "markdown",
   "id": "7712cd21-ea1d-4c32-a1b1-015665eb3540",
   "metadata": {},
   "source": [
    "Answer :    Functions in programming are like mini-programs inside a big program. They help break down tasks into smaller, manageable chunks. Functions are important because they make code easier to understand, reduce mistakes, and save time by allowing you to reuse code."
   ]
  },
  {
   "cell_type": "markdown",
   "id": "5c80e4fb-7fdf-4079-a2d3-c409373c8df0",
   "metadata": {
    "jp-MarkdownHeadingCollapsed": true,
    "tags": []
   },
   "source": [
    "# 2  Write a basic function to greet stundent "
   ]
  },
  {
   "cell_type": "code",
   "execution_count": null,
   "id": "af064b22-ca71-40b4-a73f-ca86e5bb3cf0",
   "metadata": {},
   "outputs": [
    {
     "name": "stdout",
     "output_type": "stream",
     "text": [
      "welcome to school\n"
     ]
    }
   ],
   "source": [
    "def Mukesh( ) :\n",
    "    return \"welcome to school\"\n",
    "print(Mukesh())"
   ]
  },
  {
   "cell_type": "markdown",
   "id": "b42d0118-bbf8-4875-adbe-95a8b5e4d4f6",
   "metadata": {
    "jp-MarkdownHeadingCollapsed": true,
    "tags": []
   },
   "source": [
    "# 3 what is the difference between print and return statement \n"
   ]
  },
  {
   "cell_type": "markdown",
   "id": "7d09565b-d726-44cb-8833-f57f16ae4a49",
   "metadata": {},
   "source": [
    "print is used to display things on the screen, and return is used to return values."
   ]
  },
  {
   "cell_type": "markdown",
   "id": "76cba812-212c-4a0e-882c-c575579b13ee",
   "metadata": {
    "tags": []
   },
   "source": [
    "# 4 What are args and kwargs "
   ]
  },
  {
   "cell_type": "markdown",
   "id": "e8fc70c8-3dd0-4af5-9801-1fd7356d27e6",
   "metadata": {},
   "source": [
    "args are for values you pass by position, and kwargs are for values you pass with keywords.\n",
    "Args example\n",
    "def add(x, y):\n",
    "    return x + y\n",
    "\n",
    "result = add(3, 5)\n",
    "\n",
    "\n",
    "Kwargs example -\n",
    "def greet(name=\"Mukesh \"):\n",
    "    return f\"Hello, {name}!\"\n",
    "\n",
    "message = greet(name=\"Bhatt\")\n",
    "print(message)\n"
   ]
  },
  {
   "cell_type": "markdown",
   "id": "cbcd2ba7-53f1-40d6-974c-595d8988c043",
   "metadata": {},
   "source": [
    "# 5 Explain  iterator function"
   ]
  },
  {
   "cell_type": "markdown",
   "id": "fc7c6a8e-bd71-4de6-a637-0c57767c0dda",
   "metadata": {},
   "source": [
    "An iterator function is a function in Python that helps you go through a collection of items one by one."
   ]
  },
  {
   "cell_type": "markdown",
   "id": "bde46f98-e4df-4786-8ebd-7b670655e29d",
   "metadata": {},
   "source": [
    "# 6 Write the code that generate the square of number from 1 to 10 using generator "
   ]
  },
  {
   "cell_type": "code",
   "execution_count": null,
   "id": "2c4aef16-9a46-4b13-8cbc-805385a2f2d4",
   "metadata": {},
   "outputs": [
    {
     "name": "stdout",
     "output_type": "stream",
     "text": [
      "1\n",
      "4\n",
      "9\n",
      "16\n",
      "25\n",
      "36\n",
      "49\n",
      "64\n",
      "81\n"
     ]
    }
   ],
   "source": [
    "def square(x):\n",
    "    return x * x\n",
    "\n",
    "\n",
    "for i in range(1, 10):\n",
    "    print(square(i))\n",
    "\n",
    "    "
   ]
  },
  {
   "cell_type": "markdown",
   "id": "0a0aa5f9-516b-4ce8-ab9a-26cee7c59624",
   "metadata": {},
   "source": [
    " # 7 Write a code that generates palindromic numbers up to n using a generator."
   ]
  },
  {
   "cell_type": "code",
   "execution_count": null,
   "id": "b6ac2eaf-6d47-4568-af3d-7263646dc7e8",
   "metadata": {},
   "outputs": [
    {
     "name": "stdout",
     "output_type": "stream",
     "text": [
      "[1, 2, 3, 4, 5, 6, 7, 8, 9, 11, 22, 33, 44, 55, 66, 77, 88, 99]\n"
     ]
    }
   ],
   "source": [
    "def generate_palindromic_numbers(n):\n",
    "    palindromic_nums = []\n",
    "    for num in range(1, n + 1):\n",
    "        if str(num) == str(num)[::-1]:\n",
    "            palindromic_nums.append(num)\n",
    "    return palindromic_nums\n",
    "\n",
    "n = 100\n",
    "palindromic_numbers = generate_palindromic_numbers(n)\n",
    "print(palindromic_numbers)\n",
    "\n"
   ]
  },
  {
   "cell_type": "markdown",
   "id": "9d2f76f8-4ced-4ccc-be77-7a8c06cf05bc",
   "metadata": {},
   "source": [
    " # 8  Write a code that generates even numbers from 2 to 10 using a generator."
   ]
  },
  {
   "cell_type": "code",
   "execution_count": null,
   "id": "cb8b7d5c-02f1-4f2f-9d90-1334a69ccd22",
   "metadata": {},
   "outputs": [
    {
     "name": "stdout",
     "output_type": "stream",
     "text": [
      "[2, 4, 6, 8, 10]\n"
     ]
    }
   ],
   "source": [
    "def generate_even_numbers():\n",
    "    even_numbers = []\n",
    "    for num in range(2, 11, 2):\n",
    "        even_numbers.append(num)\n",
    "    return even_numbers\n",
    "even_numbers = generate_even_numbers()\n",
    "print(even_numbers)"
   ]
  },
  {
   "cell_type": "markdown",
   "id": "34affe98-532f-4bce-805c-793353c0df6a",
   "metadata": {},
   "source": [
    "# 9 Write a code that generates powers of two up to n using a generator."
   ]
  },
  {
   "cell_type": "code",
   "execution_count": null,
   "id": "53af6774-7b79-45bb-a02a-90b549b52884",
   "metadata": {},
   "outputs": [
    {
     "name": "stdout",
     "output_type": "stream",
     "text": [
      "[1, 2, 4, 8]\n"
     ]
    }
   ],
   "source": [
    "def generate_powers_of_two():\n",
    "    power = 1\n",
    "    while power <= 10:\n",
    "        yield power\n",
    "        power *= 2\n",
    " \n",
    "powers_of_two = generate_powers_of_two()\n",
    "print(list(powers_of_two))\n",
    "\n"
   ]
  },
  {
   "cell_type": "markdown",
   "id": "ec73439f-a59f-4d7d-88dc-2489d2d465fd",
   "metadata": {},
   "source": [
    "# 10 Write a code that generates prime numbers up to n using a generator."
   ]
  },
  {
   "cell_type": "code",
   "execution_count": null,
   "id": "45fe08be-aec3-447a-94f1-ac1accc192a3",
   "metadata": {},
   "outputs": [
    {
     "name": "stdout",
     "output_type": "stream",
     "text": [
      "2\n",
      "3\n",
      "5\n",
      "7\n"
     ]
    }
   ],
   "source": [
    "def is_prime(num):\n",
    "    if num <= 1:\n",
    "        return False\n",
    "    for i in range(2, num):\n",
    "        if num % i == 0:\n",
    "            return False\n",
    "    return True\n",
    "\n",
    "def generate_prime_numbers():\n",
    "    for num in range(2, 11):\n",
    "        if is_prime(num):\n",
    "            print(num)\n",
    "\n",
    " \n",
    "generate_prime_numbers()\n"
   ]
  },
  {
   "cell_type": "markdown",
   "id": "54a0604c-aea2-4435-bcf9-210144d1194a",
   "metadata": {},
   "source": [
    "# 11 Write a code that uses a lambda function to calculate the sum of two numbers."
   ]
  },
  {
   "cell_type": "code",
   "execution_count": null,
   "id": "13383e02-a52b-4caa-a0ea-918d133bbcff",
   "metadata": {},
   "outputs": [
    {
     "name": "stdout",
     "output_type": "stream",
     "text": [
      "70\n"
     ]
    }
   ],
   "source": [
    "a = 5\n",
    "b = 10\n",
    "c= lambda x , y : x*y\n",
    "print(c(7,10))"
   ]
  },
  {
   "cell_type": "markdown",
   "id": "8c715c2b-af55-461c-ad0a-f51740e30dc6",
   "metadata": {},
   "source": [
    " # 12 Write a code that uses a lambda function to calculate the square of a given number."
   ]
  },
  {
   "cell_type": "code",
   "execution_count": null,
   "id": "a14292e1-6245-4fd8-b045-17144f9b01a9",
   "metadata": {},
   "outputs": [
    {
     "name": "stdout",
     "output_type": "stream",
     "text": [
      "64\n"
     ]
    }
   ],
   "source": [
    "\n",
    "b = lambda x : x*x\n",
    "print(b(8))"
   ]
  },
  {
   "cell_type": "markdown",
   "id": "be1a9d4e-80c1-418c-a407-7be7fa9499d9",
   "metadata": {},
   "source": [
    "# 13 Write a code that uses a lambda function to check whether a given number is even or odd."
   ]
  },
  {
   "cell_type": "markdown",
   "id": "7eda9d9f-25c7-4a19-8383-b627b4483d30",
   "metadata": {},
   "source": [
    "\n",
    "a = lambda x: \"Even\" if x % 2 == 0 else \"Odd\"\n",
    "\n",
    "\n",
    "\n",
    "print(a(10))\n"
   ]
  },
  {
   "cell_type": "markdown",
   "id": "f2e2130b-9b2e-4d24-abbb-b5239f64223a",
   "metadata": {},
   "source": [
    "# 15 Write a code that uses a lambda function to concatenate two strings."
   ]
  },
  {
   "cell_type": "code",
   "execution_count": null,
   "id": "8cfa169e-de22-49fc-92bf-b9d14f9d203d",
   "metadata": {},
   "outputs": [
    {
     "name": "stdout",
     "output_type": "stream",
     "text": [
      "my name anotiny G\n"
     ]
    }
   ],
   "source": [
    "a = lambda x, y: x + y\n",
    "x = \"my name \"\n",
    "y = \"anotiny G\"\n",
    "print(a(x, y))\n"
   ]
  },
  {
   "cell_type": "markdown",
   "id": "2a071e73-5e70-4f6a-956f-9508a18cea6e",
   "metadata": {},
   "source": [
    "# 16 Write a code that uses a lambda function to find the maximum of three given numbers."
   ]
  },
  {
   "cell_type": "code",
   "execution_count": null,
   "id": "c8233d1f-5c77-4a5c-9931-f5c57b4e45c1",
   "metadata": {},
   "outputs": [
    {
     "name": "stdout",
     "output_type": "stream",
     "text": [
      "10\n"
     ]
    }
   ],
   "source": [
    "a = lambda x, y, z: max(x, y, z)\n",
    "x= 5\n",
    "y= 10\n",
    "z = 8\n",
    "print(a(x,y,z ))\n"
   ]
  },
  {
   "cell_type": "markdown",
   "id": "9f7c335e-4d22-4944-97e0-e64ac42f7d9f",
   "metadata": {},
   "source": [
    "# 17 Write a code that generates the squares of even numbers from a given list."
   ]
  },
  {
   "cell_type": "code",
   "execution_count": null,
   "id": "41c9aed8-7157-49bc-a10e-49522ab0cca4",
   "metadata": {},
   "outputs": [
    {
     "name": "stdout",
     "output_type": "stream",
     "text": [
      "[4, 16, 36, 64, 100]\n"
     ]
    }
   ],
   "source": [
    "\n",
    "numbers = [1, 2, 3, 4, 5, 6, 7, 8, 9, 10]\n",
    "\n",
    "a = [num ** 2 for num in numbers if num % 2 == 0]\n",
    "\n",
    " \n",
    "print(a)\n"
   ]
  },
  {
   "cell_type": "markdown",
   "id": "f49f8cda-f6cb-4cb3-89b3-ac11f9f4cbb1",
   "metadata": {},
   "source": [
    "# 18 Write a code that calculates the product of positive numbers from a given list."
   ]
  },
  {
   "cell_type": "markdown",
   "id": "49f0eac6-fb4a-416f-9a4a-bee396c218aa",
   "metadata": {},
   "source": [
    "\n",
    "\n",
    "\n",
    "numbers = [1, 2, -3, 4, -5, 6, 7, -8, 9, -10]\n",
    "product = 1\n",
    "for num in numbers:\n",
    "    if num > 0:\n",
    "        product *= num\n",
    "print(   product)\n",
    "\n"
   ]
  },
  {
   "cell_type": "markdown",
   "id": "780c31ba-c95e-406e-afc1-168d27bee5b6",
   "metadata": {},
   "source": [
    "# 19 Write a code that doubles the values of odd numbers from a given list."
   ]
  },
  {
   "cell_type": "code",
   "execution_count": null,
   "id": "a330f164-da04-46bc-8aac-9a6ae8f48eeb",
   "metadata": {},
   "outputs": [
    {
     "name": "stdout",
     "output_type": "stream",
     "text": [
      "[2, 6, 10, 14, 18]\n"
     ]
    }
   ],
   "source": [
    "numbers = [1, 2, 3, 4, 5, 6, 7, 8, 9, 10]\n",
    "\n",
    "a = [num * 2 for num in numbers if num % 2 != 0]\n",
    "\n",
    "print(a)\n",
    "\n"
   ]
  },
  {
   "cell_type": "markdown",
   "id": "37ac1d31-b183-4aa5-a921-1a6c947b86be",
   "metadata": {},
   "source": [
    "# 20 Write a code that calculates the sum of cubes of numbers from a given list."
   ]
  },
  {
   "cell_type": "code",
   "execution_count": null,
   "id": "a7916541-5a33-4b2d-bca7-6084b0a02460",
   "metadata": {},
   "outputs": [
    {
     "name": "stdout",
     "output_type": "stream",
     "text": [
      "[1, 8, 27, 64, 125, 216, 343, 512, 729, 1000]\n"
     ]
    }
   ],
   "source": [
    "numbers = [1, 2, 3, 4, 5, 6, 7, 8, 9, 10]\n",
    "\n",
    "a = [num ** 3 for num in numbers  ]\n",
    "\n",
    "print(a)\n"
   ]
  },
  {
   "cell_type": "markdown",
   "id": "c66a8988-4a8c-4919-ac2c-18280f381474",
   "metadata": {},
   "source": [
    "# 21 Write a code that filters out prime numbers from a given list."
   ]
  },
  {
   "cell_type": "code",
   "execution_count": null,
   "id": "836bb865-9b2e-4511-8015-3ba5f9406d5c",
   "metadata": {},
   "outputs": [
    {
     "name": "stdout",
     "output_type": "stream",
     "text": [
      "Prime numbers: [2, 3, 5, 7]\n"
     ]
    }
   ],
   "source": [
    "def is_prime(n):\n",
    "    if n <= 1:\n",
    "        return False\n",
    "    for i in range(2, int(n ** 0.5) + 1):\n",
    "        if n % i == 0:\n",
    "            return False\n",
    "    return True\n",
    " \n",
    "numbers = [1, 2, 3, 4, 5, 6, 7, 8, 9, 10]\n",
    " \n",
    "prime_numbers = [num for num in numbers if is_prime(num)]\n",
    " \n",
    "print(\"Prime numbers:\", prime_numbers)"
   ]
  },
  {
   "cell_type": "markdown",
   "id": "0a986f5b-8fdf-4811-ac03-1c0fa962e576",
   "metadata": {},
   "source": [
    "# 22 -26 have repeated questions "
   ]
  },
  {
   "cell_type": "markdown",
   "id": "ad1d2f00-acd2-4ad6-9494-7ddc55a3cc75",
   "metadata": {},
   "source": [
    "# 27 What is encapsulation in OOP?"
   ]
  },
  {
   "cell_type": "markdown",
   "id": "05701d7a-47f2-4d40-b68c-5c9664a4f464",
   "metadata": {},
   "source": [
    "Encapsulation in Object-Oriented Programming (OOP) is a concept where the data (variables) and methods (functions) that operate on the data are bundled together within a class. This bundling helps in controlling access to the data, ensuring that it is accessed and modified in a controlled manner, often through getter and setter methods. Encapsulation allows for better organization of code, improves maintainability, and enhances security by hiding the internal implementation details of a class from the outside world."
   ]
  },
  {
   "cell_type": "markdown",
   "id": "c219cc7c-5d82-405e-b7b1-c2c96d17935c",
   "metadata": {},
   "source": [
    "# 28 Explain the use of access modifiers in Python classes."
   ]
  },
  {
   "cell_type": "markdown",
   "id": "2b27af86-98a2-43bf-bd3a-377207051895",
   "metadata": {},
   "source": [
    "Python class access modifier defines how variables and methods of a class can be accessed outside of the class. \n",
    "Public members can be accessed freely from outside the class, \n",
    "protected members can be accessed from inside the class and its classes, and so on. Public members start with an underscore. \n",
    "Protected members start with a hyphen.\n",
    "Private members start with a double hyphen.\n",
    "\n"
   ]
  },
  {
   "cell_type": "markdown",
   "id": "ca7e29b7-7367-49b0-9b01-af511c04aa76",
   "metadata": {},
   "source": [
    "# 29 What is inheritance in OOP?"
   ]
  },
  {
   "cell_type": "markdown",
   "id": "47f126e8-8a92-4a83-a60d-a9a96a94fa86",
   "metadata": {},
   "source": [
    "Inheritance in OOP is like passing down traits from parents to children, but with classes. Imagine you have a class called \"Animal\" with some basic features like \"eat\" and \"sleep\". Now, you want to create a more specific class like \"Dog\". Instead of rewriting all the basic features, you can simply say that \"Dog\" is a type of \"Animal\" and it automatically gets those basic features. So, inheritance allows you to make new classes that are based on existing ones, saving you time and effort by reusing code."
   ]
  },
  {
   "cell_type": "markdown",
   "id": "b3f50e45-af6f-49eb-99a1-a0dedcc713c4",
   "metadata": {},
   "source": [
    "# 30 Define polymorphism in OOP."
   ]
  },
  {
   "cell_type": "markdown",
   "id": "8e6b8bb7-d5d6-490c-a04a-33489f64951f",
   "metadata": {},
   "source": [
    "Polymorphism in Object-Oriented Programming (OOP) is the ability to treat objects of different classes as objects of the same parent class. This means that even though the objects are of different classes, they can be used in a consistent manner. Let’s say you have a “Shape” class that has a method called “draw”. You can have subclasses like “Circle” and “Square”, each with its own method for drawing. When you call the ‘draw’ method on any of these shape objects, they know how to draw themselves based on their class.\n",
    "\n"
   ]
  },
  {
   "cell_type": "markdown",
   "id": "2696e94f-cb7d-430d-9392-636dee0d3fc4",
   "metadata": {},
   "source": [
    "# 31 Explain method overriding in Python."
   ]
  },
  {
   "cell_type": "markdown",
   "id": "43279501-9308-4bae-91cf-87b607504d2f",
   "metadata": {},
   "source": [
    "In Python, overriding a method is similar to altering a rule when playing a game with friends. It is the capacity to alter or swap out a method that was passed down from a parent class to a child class.\n",
    "\n",
    "Consider that you have a class named \"Animal\" and that it has a \"make_sound\" method that outputs \"Generic animal sound.\" You now construct a subclass named \"Dog\" with a \"make_sound\" function that prints \"Woof!\" this time.\n",
    "\n",
    "\n",
    "Therefore, \"Woof!\" is printed when the \"make_sound\" method is used on a \"Dog\" object rather than the standard animal sound. This is known as method overriding, when a method's implementation provided by the child class takes the place of the one inherited from the parent class."
   ]
  },
  {
   "cell_type": "markdown",
   "id": "ea775fb3-ad25-4c1e-bee0-266cee2c4c26",
   "metadata": {},
   "source": [
    "# 32 Define a parent class Animal with a method make_sound that prints \"Generic animal sound\". Create a child class Dog inheriting from Animal with a method make_sound that prints \"Woof!\"."
   ]
  },
  {
   "cell_type": "code",
   "execution_count": null,
   "id": "7585f542-f2a3-4324-841d-ca7625fcc510",
   "metadata": {},
   "outputs": [
    {
     "name": "stdout",
     "output_type": "stream",
     "text": [
      "Generic animal sound\n",
      "Woof!\n"
     ]
    }
   ],
   "source": [
    "class Animal:\n",
    "    def make_sound(self):\n",
    "        print(\"Generic animal sound\")\n",
    "\n",
    "class Dog(Animal):\n",
    "    def make_sound(self):\n",
    "        print(\"Woof!\")\n",
    "animal = Animal()\n",
    "dog = Dog()\n",
    "\n",
    "animal.make_sound()\n",
    "dog.make_sound()    \n"
   ]
  },
  {
   "cell_type": "markdown",
   "id": "fa55e4a6-8d2e-42e4-b04f-a524217455ad",
   "metadata": {},
   "source": [
    "# 33 Define a method move in the Animal class that prints \"Animal moves\". Override the move method in the Dog class to print \"Dog runs.\"\n"
   ]
  },
  {
   "cell_type": "code",
   "execution_count": null,
   "id": "f94a0ec3-be0e-436d-ab24-383483881653",
   "metadata": {},
   "outputs": [
    {
     "data": {
      "text/plain": [
       "'Animal move'"
      ]
     },
     "execution_count": 21,
     "metadata": {},
     "output_type": "execute_result"
    }
   ],
   "source": [
    "class Animal():\n",
    "    def move (self):\n",
    "        return \"Animal move\"\n",
    "\n",
    "class Dog(Animal):\n",
    "    def move(self):\n",
    "        return \"dog runs\"\n",
    "\n",
    "a = Animal()\n",
    "b = Dog()\n",
    "a.move()\n",
    "\n"
   ]
  },
  {
   "cell_type": "markdown",
   "id": "5789cb67-049e-4a44-9898-61cec4240591",
   "metadata": {},
   "source": [
    "# 34 Create a class Mammal with a method reproduce that prints \"Giving birth to live young.\" Create a class DogMammal inheriting from both Dog and Mammal.\n"
   ]
  },
  {
   "cell_type": "code",
   "execution_count": null,
   "id": "815c11c9-526f-440d-a3e6-a59e15020b2e",
   "metadata": {},
   "outputs": [
    {
     "name": "stdout",
     "output_type": "stream",
     "text": [
      "Giving birth to live young.\n"
     ]
    }
   ],
   "source": [
    "class Mammal:\n",
    "    def reproduce(self):\n",
    "        print(\"Giving birth to live young.\")\n",
    "\n",
    "class Dog:\n",
    "    def make_sound(self):\n",
    "        print(\"Woof!\")\n",
    "\n",
    "class DogMammal(Dog, Mammal):\n",
    "    pass\n",
    " \n",
    "dog_mammal = DogMammal()\n",
    " \n",
    "dog_mammal.reproduce()  \n"
   ]
  },
  {
   "cell_type": "markdown",
   "id": "88e9af57-fac7-4e19-8549-b4e6c5e97742",
   "metadata": {},
   "source": [
    "# 35 Create a class GermanShepherd inheriting from Dog and override the make_sound method to print \"Bark!\"\n"
   ]
  },
  {
   "cell_type": "code",
   "execution_count": null,
   "id": "675bb565-b5df-4d7e-a366-1f0ba0df9f87",
   "metadata": {},
   "outputs": [
    {
     "name": "stdout",
     "output_type": "stream",
     "text": [
      "Bark!\n"
     ]
    }
   ],
   "source": [
    "class Dog:\n",
    "    def make_sound(self):\n",
    "        print(\"Woof!\")\n",
    "\n",
    "class GermanShepherd(Dog):\n",
    "    def make_sound(self):\n",
    "        print(\"Bark!\")\n",
    " \n",
    "german_shepherd = GermanShepherd()\n",
    " \n",
    "german_shepherd.make_sound()   \n"
   ]
  },
  {
   "cell_type": "markdown",
   "id": "fb1f59e4-a570-44bf-a58f-20eb96b69b88",
   "metadata": {},
   "source": [
    "# 36 Define constructors in both the Animal and Dog classes with different initialization parameters.\n"
   ]
  },
  {
   "cell_type": "code",
   "execution_count": null,
   "id": "01da2397-5adb-4c5c-837c-98745bebf021",
   "metadata": {},
   "outputs": [
    {
     "data": {
      "text/plain": [
       "'Labrador'"
      ]
     },
     "execution_count": 24,
     "metadata": {},
     "output_type": "execute_result"
    }
   ],
   "source": [
    "class Animal:\n",
    "    def __init__(self, species):\n",
    "        self.species = species\n",
    "\n",
    "class Dog:\n",
    "    def __init__(self,bread ):\n",
    "        self.bread = bread\n",
    "\n",
    "a = Animal(\"German\")\n",
    "b= Dog(\"Labrador\")\n",
    "a.species\n",
    "b.bread"
   ]
  },
  {
   "cell_type": "markdown",
   "id": "0283ab0c-5be9-45f7-ab56-b04d12fde415",
   "metadata": {},
   "source": [
    "# 37 What is abstraction in Python? How is it implemented?\n"
   ]
  },
  {
   "cell_type": "markdown",
   "id": "c19fa90f-9939-44e2-85ca-a2880f31eb4d",
   "metadata": {},
   "source": [
    "Python abstraction is like to operating a TV remote control without understanding its internal workings. To change stations or modify the volume, simply push the buttons on the remote control instead of worrying about the intricate circuitry within.\n",
    "\n",
    "Python's abstraction feature enables you to write functions and classes that just display the information required to use them, concealing the intricate intricacies. Just know how to utilize them; you don't need to understand how they operate on the inside.\n",
    "\n",
    "For instance, you may have methods like `area} and `perimeter} in a class named {Shape}. Based on this class, you may draw various forms, such as circles or rectangles, without having to understand how the internal area and perimeter computations are carried out. This is abstraction; it offers a straightforward interface while concealing the underlying specifics."
   ]
  },
  {
   "cell_type": "markdown",
   "id": "62430e50-865c-44fb-8791-98cd5bb6c561",
   "metadata": {},
   "source": [
    "# 38 Explain the importance of abstraction in object-oriented programming.\n"
   ]
  },
  {
   "cell_type": "markdown",
   "id": "385ff7b2-bda6-4534-82da-4842b0c9b285",
   "metadata": {},
   "source": [
    "In object-oriented programming (OOP), abstraction is analogous to a TV remote control. To change stations or modify the volume, simply push the buttons on the TV; you don't need to understand how it operates within.\n",
    "\n",
    "\n",
    "Similar to this, abstraction in programming hides the finer points and just displays what's crucial. It simplifies complicated information behind a straightforward interface, making code easier to read and utilize.\n",
    "\n",
    "\n",
    "Abstraction is crucial for newcomers because: 1. It simplifies the understanding of code.\n",
    "2. It assists in decomposing large issues into more manageable chunks.\n",
    "3. We can reuse code by using it without having to rewrite it.\n",
    "4. It increases the flexibility and changeability of our programming.\n",
    "\n",
    "Thus, abstraction in programming allows us to focus on what we want, exactly like using a TV remote."
   ]
  },
  {
   "cell_type": "markdown",
   "id": "2f93e796-78f0-4b06-a5e0-3a1967a8dde4",
   "metadata": {},
   "source": [
    "# 39 How are abstract methods different from regular methods in Python?"
   ]
  },
  {
   "cell_type": "markdown",
   "id": "631f59d9-f6a8-4d54-80e5-0b3faacd5aea",
   "metadata": {},
   "source": [
    "In Python, regular procedures resemble cookbook recipes. They contain every item and recipe required to prepare a meal.\n",
    "\n",
    "Conversely, abstract methods are similar to recipe placeholders. They advise you to do a specific step, but they don't provide you detailed directions. Saying \"Add seasoning to taste\" without being specific about the amount of seasoning is equivalent to that.\n",
    "\n",
    "The `@abstractmethod} decorator is used in Python abstract classes to define abstract methods. Any subclass that derives from the abstract class has to override (that is, provide particular instructions) these methods.\n",
    "\n",
    "The primary distinction between regular and abstract methods is that the former provide explicit instructions, while the latter are only placeholders that subclasses must fill in."
   ]
  },
  {
   "cell_type": "markdown",
   "id": "5ae979dc-15a2-484e-9355-8e44a048f60e",
   "metadata": {},
   "source": [
    "# 40 How can you achieve abstraction using interfaces in Python?"
   ]
  },
  {
   "cell_type": "markdown",
   "id": "d1cb1142-9ad5-4d48-8bce-a4fff6b7947b",
   "metadata": {},
   "source": [
    "Interfaces in Python are similar to sets of guidelines that classes must abide by. They're saying, \"Hey, if you want to be part of this group, you need to do these things.\"\n",
    "\n",
    "Here's how to create an interface in Python using abstract classes:\n",
    "\n",
    "Using the ABC metaclass, create an abstract class.\n",
    "Define some methods inside that class without providing any specifics (we refer to these as \"abstract methods\").\n",
    "To utilize this interface, a class must inherit from the abstract class and include explicit methods' instructions."
   ]
  },
  {
   "cell_type": "markdown",
   "id": "307daef3-6d1b-47dc-a5de-a2c21e255666",
   "metadata": {},
   "source": [
    "# 41 Can you provide an example of how abstraction can be utilized to create a common interface for a group of related classes in Python?"
   ]
  },
  {
   "cell_type": "markdown",
   "id": "ba939828-8f9b-49b8-9186-36437538aa6a",
   "metadata": {},
   "source": [
    "Imagine you have different types of vehicles: cars, bikes, and trucks. They can all move and make sounds, but each does it differently.\n",
    "\n",
    "We can create a common interface for all these vehicles using abstraction in Python. Here's how:"
   ]
  },
  {
   "cell_type": "markdown",
   "id": "a4037634-e450-41a7-b054-61e17a9b20a2",
   "metadata": {},
   "source": [
    "# 42 Can you provide an example of how abstraction can be utilized to create a common interface for a group of related classes in Python?"
   ]
  },
  {
   "cell_type": "code",
   "execution_count": null,
   "id": "321a3b15-f100-490e-a685-b7a19179221b",
   "metadata": {},
   "outputs": [
    {
     "name": "stdout",
     "output_type": "stream",
     "text": [
      "Car is moving\n",
      "Bike is moving\n",
      "Vroom! Vroom!\n",
      "Truck is moving\n",
      "Honk! Honk!\n"
     ]
    }
   ],
   "source": [
    "from abc import ABC, abstractmethod\n",
    "\n",
    "class Vehicle(ABC):   \n",
    "    @abstractmethod\n",
    "    def move(self):\n",
    "        pass\n",
    "\n",
    "    @abstractmethod\n",
    "    def make_sound(self):\n",
    "        pass\n",
    "\n",
    "class Car(Vehicle):  \n",
    "    def move(self):\n",
    "        return \"Car is moving\"\n",
    "\n",
    "    def make_sound(self):\n",
    "        return \"Vroom!\"\n",
    "\n",
    "class Bike(Vehicle):  \n",
    "    def move(self):\n",
    "        return \"Bike is moving\"\n",
    "\n",
    "    def make_sound(self):\n",
    "        return \"Vroom! Vroom!\"\n",
    "\n",
    "class Truck(Vehicle):   \n",
    "    def move(self):\n",
    "        return \"Truck is moving\"\n",
    "\n",
    "    def make_sound(self):\n",
    "        return \"Honk! Honk!\" \n",
    "car = Car()\n",
    "bike = Bike()\n",
    "truck = Truck() \n",
    "print(car.move())            \n",
    "print(bike.move())         \n",
    "print(bike.make_sound())   \n",
    "print(truck.move())        \n",
    "print(truck.make_sound())  \n"
   ]
  },
  {
   "cell_type": "markdown",
   "id": "adc46098-5bf4-4917-8616-22941cf31bdb",
   "metadata": {},
   "source": [
    "# 43 How does Python achieve polymorphism through method overriding?"
   ]
  },
  {
   "cell_type": "markdown",
   "id": "5d782f10-3e18-4003-95aa-4e7fbb4facdf",
   "metadata": {},
   "source": [
    "By defining a method in a subclass with the same name as a method in its superclass, Python allows for polymorphism through method overriding. Python determines which method to run dynamically depending on the type of object at runtime when an object of the subclass uses this method. Polymorphic behavior results from allowing many subclasses to offer their unique implementations of the same procedure."
   ]
  },
  {
   "cell_type": "markdown",
   "id": "d02d7f01-9beb-4e27-a403-42dc599a9b3b",
   "metadata": {},
   "source": [
    "# 44 Define a base class with a method and a subclass that overrides the method."
   ]
  },
  {
   "cell_type": "code",
   "execution_count": null,
   "id": "3024a526-5558-4ab9-8f13-69fbcbe57c49",
   "metadata": {},
   "outputs": [
    {
     "data": {
      "text/plain": [
       "'Not every day'"
      ]
     },
     "execution_count": 28,
     "metadata": {},
     "output_type": "execute_result"
    }
   ],
   "source": [
    "class Max :\n",
    "    def work(self):\n",
    "        return \"24*7\"\n",
    "\n",
    "class Small (Max):\n",
    "    def work(self):\n",
    "        return \"Not every day\"\n",
    "a= Max()\n",
    "b=Small()\n",
    "b.work()"
   ]
  },
  {
   "cell_type": "markdown",
   "id": "bb3ebe3f-63d5-4d54-85fd-3154ff1600d5",
   "metadata": {},
   "source": [
    "# 45 Define a base class and multiple subclasses with overridden methods."
   ]
  },
  {
   "cell_type": "code",
   "execution_count": null,
   "id": "1eab99cc-3a0e-4ebf-9a58-0efb1ea372ec",
   "metadata": {},
   "outputs": [
    {
     "name": "stdout",
     "output_type": "stream",
     "text": [
      "Area of square = side * side\n",
      "Area of circle = π * radius * radius\n",
      "Area of triangle = 0.5 * base * height\n"
     ]
    }
   ],
   "source": [
    " \n",
    "class Shape:\n",
    "    def area(self):\n",
    "        return \"Area calculation not implemented\"\n",
    " \n",
    "class Square(Shape):\n",
    "    def area(self):\n",
    "        return \"Area of square = side * side\"\n",
    "\n",
    "class Circle(Shape):\n",
    "    def area(self):\n",
    "        return \"Area of circle = π * radius * radius\"\n",
    "\n",
    "class Triangle(Shape):\n",
    "    def area(self):\n",
    "        return \"Area of triangle = 0.5 * base * height\"\n",
    " \n",
    "square = Square()\n",
    "circle = Circle()\n",
    "triangle = Triangle()\n",
    "\n",
    "print(square.area())   \n",
    "print(circle.area())    \n",
    "print(triangle.area())  \n"
   ]
  },
  {
   "cell_type": "markdown",
   "id": "8baa001f-e1b1-4768-9b82-5f393dcfab5e",
   "metadata": {},
   "source": [
    "# 46 How does polymorphism improve code readability and reusability?"
   ]
  },
  {
   "cell_type": "markdown",
   "id": "40096f7d-f4a8-4771-b4ce-b526a937549e",
   "metadata": {},
   "source": [
    "Readability: Because polymorphism enables us to treat various objects similarly, concentrating on their capabilities rather than their characteristics, it makes code easier to read. This facilitates comprehension and adherence to the code.\n",
    "\n",
    "Reusability: Even if two objects are of different kinds, we can still utilize the same code for both because to polymorphism. This motivates us to write more modular, reusable code and prevents us from writing the same code over.\n",
    "\n",
    "To put it simply, polymorphism makes code easier to read and allows us to reuse the same code for several purposes. It makes our life as programmers easier, equivalent to having a set of multipurpose tools!"
   ]
  },
  {
   "cell_type": "markdown",
   "id": "32c3e9b1-4984-429f-bc16-a646524e5048",
   "metadata": {},
   "source": [
    "# 47 Describe how Python supports polymorphism with duck typing."
   ]
  },
  {
   "cell_type": "markdown",
   "id": "940ee325-2714-4868-b031-8b623b1285e9",
   "metadata": {},
   "source": [
    "Python polymorphism is the same as treating distinct objects identically based on their capabilities rather than their characteristics.\n",
    "\n",
    "Here's a brief synopsis:\n",
    "\n",
    "Behavior Counts: Python is more concerned with an object's capabilities than its precise type.\n",
    "No Formalities: Fancy installations or formal regulations are not necessary. Python is content as long as an object has the appropriate methods.\n",
    "Consider a dog and a duck, for instance. Python treats them equally if both are able to speak()."
   ]
  },
  {
   "cell_type": "code",
   "execution_count": null,
   "id": "34372c6b-5651-4b24-9023-831616f2ffa5",
   "metadata": {},
   "outputs": [
    {
     "name": "stdout",
     "output_type": "stream",
     "text": [
      "Quack!\n",
      "Woof!\n"
     ]
    }
   ],
   "source": [
    "class Duck:\n",
    "    def speak(self):\n",
    "        return \"Quack!\"\n",
    "\n",
    "class Dog:\n",
    "    def speak(self):\n",
    "        return \"Woof!\"\n",
    "\n",
    "def make_sound(animal):\n",
    "    print(animal.speak())\n",
    "\n",
    "duck = Duck()\n",
    "dog = Dog()\n",
    "\n",
    "make_sound(duck) \n",
    "make_sound(dog)    \n"
   ]
  },
  {
   "cell_type": "markdown",
   "id": "924d8385-a2c3-46d3-8ceb-e08952c6bdb7",
   "metadata": {},
   "source": [
    "# 48 How do you achieve encapsulation in Python?"
   ]
  },
  {
   "cell_type": "markdown",
   "id": "6fbe8b70-abe2-4081-a4cf-509f66d835d0",
   "metadata": {},
   "source": [
    "Encapsulation: Encapsulation in Python refers to grouping together data and the functions that manipulate it within a class.\n",
    "\n",
    "Using Classes: A class is created to contain data. You define variables (data) and functions (methods) that work with the data inside the class.\n",
    "\n",
    "Private Variables: Variables can be designated as private by prefixing their names with an underscore (_). It follows that access to them should be restricted only within the classroom.\n",
    "\n"
   ]
  },
  {
   "cell_type": "code",
   "execution_count": null,
   "id": "ab84d380-5cac-488a-b3da-529841822d9e",
   "metadata": {},
   "outputs": [
    {
     "name": "stdout",
     "output_type": "stream",
     "text": [
      "Brand: Toyota, Model: Corolla\n"
     ]
    }
   ],
   "source": [
    "class Car:\n",
    "    def __init__(self, brand, model):\n",
    "        self._brand = brand\n",
    "        self._model = model\n",
    "\n",
    "    def get_info(self):\n",
    "        return f\"Brand: {self._brand}, Model: {self._model}\"\n",
    " \n",
    "my_car = Car(\"Toyota\", \"Corolla\")\n",
    " \n",
    "print(my_car.get_info())   "
   ]
  },
  {
   "cell_type": "markdown",
   "id": "145b6770-bf7a-4d1b-8d82-96f8c795fc6f",
   "metadata": {},
   "source": [
    "# 48 Can encapsulation be bypassed in Python? If so, how?"
   ]
  },
  {
   "cell_type": "markdown",
   "id": "5456a6b8-9f40-429d-9862-3f988218cdf2",
   "metadata": {},
   "source": [
    "In Python, encapsulation can be bypassed, meaning you can access and modify class attributes directly from outside the class. This can be done by accessing the attributes using their names directly, even if they are intended to be private or protected. However, it's important to follow conventions and respect the intended usage of attributes and methods to maintain code quality and readability."
   ]
  },
  {
   "cell_type": "code",
   "execution_count": null,
   "id": "306317f3-303c-4b55-a474-8d5509897589",
   "metadata": {},
   "outputs": [
    {
     "name": "stdout",
     "output_type": "stream",
     "text": [
      "Protected variable\n",
      "Private variable\n"
     ]
    }
   ],
   "source": [
    "class MyClass:\n",
    "    def __init__(self):\n",
    "        self._protected_var = \"Protected variable\"   \n",
    "        self.__private_var = \"Private variable\"      \n",
    "\n",
    "obj = MyClass()\n",
    " \n",
    "print(obj._protected_var)      \n",
    "print(obj._MyClass__private_var)    "
   ]
  },
  {
   "cell_type": "markdown",
   "id": "ac2e11e8-fbb0-40ea-9c51-c3cb189744ba",
   "metadata": {},
   "source": [
    "# 49 Implement a class BankAccount with a private balance attribute. Include methods to deposit, withdraw, and check the balance.\n"
   ]
  },
  {
   "cell_type": "code",
   "execution_count": null,
   "id": "b6673609-e4de-4404-bf9a-761bf076bd30",
   "metadata": {},
   "outputs": [
    {
     "name": "stdout",
     "output_type": "stream",
     "text": [
      "Deposited $50. Current balance: $150\n",
      "Withdrew $30. Current balance: $120\n",
      "Current balance: $120\n"
     ]
    }
   ],
   "source": [
    "class BankAccount:\n",
    "    def __init__(self, initial_balance=0):\n",
    "        self._balance = initial_balance  # Private balance attribute\n",
    "\n",
    "    def deposit(self, amount):\n",
    "       \n",
    "        if amount > 0:\n",
    "            self._balance += amount\n",
    "            print(f\"Deposited ${amount}. Current balance: ${self._balance}\")\n",
    "        else:\n",
    "            print(\"Invalid deposit amount. Please enter a positive number.\")\n",
    "\n",
    "    def withdraw(self, amount):\n",
    "    \n",
    "        if 0 < amount <= self._balance:\n",
    "            self._balance -= amount\n",
    "            print(f\"Withdrew ${amount}. Current balance: ${self._balance}\")\n",
    "        else:\n",
    "            print(\"Insufficient funds or invalid withdrawal amount.\")\n",
    "\n",
    "    def check_balance(self):\n",
    "   \n",
    "        print(f\"Current balance: ${self._balance}\")\n",
    " \n",
    "account = BankAccount(100)   \n",
    "account.deposit(50)        \n",
    "account.withdraw(30)         \n",
    "account.check_balance()    \n"
   ]
  },
  {
   "cell_type": "markdown",
   "id": "2b6a519d-6164-4ac1-95fa-ae601f8e5eb5",
   "metadata": {},
   "source": [
    "# 50 Develop a Person class with private attributes name and email, and methods to set and get the email."
   ]
  },
  {
   "cell_type": "code",
   "execution_count": null,
   "id": "6c38f54d-16bd-4052-bf38-f34fe622b499",
   "metadata": {},
   "outputs": [
    {
     "name": "stdout",
     "output_type": "stream",
     "text": [
      "alice@example.com\n",
      "alice.new@example.com\n"
     ]
    }
   ],
   "source": [
    "class Person:\n",
    "    def __init__(self, name, email):\n",
    "        self._name = name\n",
    "        self._email = email\n",
    "\n",
    "    def set_email(self, email):\n",
    "\n",
    "        self._email = email\n",
    "\n",
    "    def get_email(self):\n",
    "     \n",
    "        return self._email\n",
    "\n",
    "# Usage example\n",
    "person = Person(\"Alice\", \"alice@example.com\")\n",
    "print(person.get_email())\n",
    "person.set_email(\"alice.new@example.com\")\n",
    "print(person.get_email())"
   ]
  },
  {
   "cell_type": "markdown",
   "id": "a53fffb8-5bb9-4556-bdbc-0afc0d62ebe9",
   "metadata": {},
   "source": [
    "# 51 Why is encapsulation considered a pillar of object-oriented programming (OOP)?"
   ]
  },
  {
   "cell_type": "markdown",
   "id": "d53d4194-f9bd-45f0-9594-e0078cfacac6",
   "metadata": {},
   "source": [
    "Encapsulation bears similarities to boxing things in. It refers to the programming practice of placing data and functions and other related objects inside of classes.\n",
    "\n",
    "Here's a quick summary:\n",
    "\n",
    "Organization: Code is easier to read and deal with when related elements are kept together by encapsulation.\n",
    "\n",
    "Protection: It limits access to and alteration of data, keeping it secure. You have control over who can see and alter what.\n",
    "\n",
    "Flexibility: Changing a class's internal operations without affecting the remainder of the code is made simpler by encapsulation.\n",
    "\n",
    "Encapsulation, then, is similar to having well-organized boxes that make managing and keeping things secure in your code easy!"
   ]
  },
  {
   "cell_type": "markdown",
   "id": "61bae3b6-b170-46bc-8111-47a4083cdc0d",
   "metadata": {},
   "source": [
    "# 52 Create a decorator in Python that adds functionality to a simple function by printing a message before and after the function execution."
   ]
  },
  {
   "cell_type": "code",
   "execution_count": null,
   "id": "2d6782ca-2d18-42e4-8864-9f0fe9e04bdd",
   "metadata": {},
   "outputs": [
    {
     "name": "stdout",
     "output_type": "stream",
     "text": [
      "Before function execution\n",
      "Inside the simple function\n",
      "After function execution\n"
     ]
    }
   ],
   "source": [
    "def simple_decorator(func):\n",
    "    def wrapper():\n",
    "        print(\"Before function execution\")\n",
    "        func()\n",
    "        print(\"After function execution\")\n",
    "    return wrapper\n",
    "\n",
    "@simple_decorator\n",
    "def simple_function():\n",
    "    print(\"Inside the simple function\")\n",
    "\n",
    "simple_function()\n"
   ]
  },
  {
   "cell_type": "markdown",
   "id": "dbec201a-76bb-4a69-ba50-4b23c865be9b",
   "metadata": {},
   "source": [
    "# 53 Modify the decorator to accept arguments and print the function name along with the message."
   ]
  },
  {
   "cell_type": "code",
   "execution_count": null,
   "id": "7e1493d7-003d-44eb-8c0a-cc7d8480ceff",
   "metadata": {},
   "outputs": [
    {
     "name": "stdout",
     "output_type": "stream",
     "text": [
      "Before executing simple_function: executing function\n",
      "Inside the simple function\n",
      "After executing simple_function: executing function\n"
     ]
    }
   ],
   "source": [
    "def decorator_with_args(message):\n",
    "    def decorator(func):\n",
    "        def wrapper(*args, **kwargs):\n",
    "            print(f\"Before executing {func.__name__}: {message}\")\n",
    "            result = func(*args, **kwargs)\n",
    "            print(f\"After executing {func.__name__}: {message}\")\n",
    "            return result\n",
    "        return wrapper\n",
    "    return decorator\n",
    "\n",
    "@decorator_with_args(\"executing function\")\n",
    "def simple_function():\n",
    "    print(\"Inside the simple function\")\n",
    "\n",
    "simple_function()\n"
   ]
  },
  {
   "cell_type": "markdown",
   "id": "14963597-5cae-4960-adb0-e8ce7c01a08e",
   "metadata": {},
   "source": [
    "# 54 Create two decorators, and apply them to a single function. Ensure that they execute in the order they are applied."
   ]
  },
  {
   "cell_type": "code",
   "execution_count": null,
   "id": "cacccd70-0296-4031-a627-e6d3a89bcf52",
   "metadata": {},
   "outputs": [
    {
     "name": "stdout",
     "output_type": "stream",
     "text": [
      "Decorator 1 - Before function execution\n",
      "Decorator 2 - Before function execution\n",
      "Inside the function\n",
      "Decorator 2 - After function execution\n",
      "Decorator 1 - After function execution\n"
     ]
    }
   ],
   "source": [
    "def decorator1(func):\n",
    "    def wrapper(*args, **kwargs):\n",
    "        print(\"Decorator 1 - Before function execution\")\n",
    "        result = func(*args, **kwargs)\n",
    "        print(\"Decorator 1 - After function execution\")\n",
    "        return result\n",
    "    return wrapper\n",
    "\n",
    "def decorator2(func):\n",
    "    def wrapper(*args, **kwargs):\n",
    "        print(\"Decorator 2 - Before function execution\")\n",
    "        result = func(*args, **kwargs)\n",
    "        print(\"Decorator 2 - After function execution\")\n",
    "        return result\n",
    "    return wrapper\n",
    "\n",
    "@decorator1\n",
    "@decorator2\n",
    "def my_function():\n",
    "    print(\"Inside the function\")\n",
    "\n",
    "my_function()\n"
   ]
  },
  {
   "cell_type": "markdown",
   "id": "6c320e90-e947-49a0-9214-8000adaa122b",
   "metadata": {},
   "source": [
    "# 55 Modify the decorator to accept and pass function arguments to the wrapped function."
   ]
  },
  {
   "cell_type": "code",
   "execution_count": null,
   "id": "9866bf95-cef8-4301-aced-7b3dd80b5454",
   "metadata": {},
   "outputs": [
    {
     "name": "stdout",
     "output_type": "stream",
     "text": [
      "Decorator - Before function execution\n",
      "Decorator - After function execution\n",
      "Result: 7\n"
     ]
    }
   ],
   "source": [
    "def decorator(func):\n",
    "    def wrapper(*args, **kwargs):\n",
    "        print(\"Decorator - Before function execution\")\n",
    "        result = func(*args, **kwargs)\n",
    "        print(\"Decorator - After function execution\")\n",
    "        return result\n",
    "    return wrapper\n",
    "\n",
    "@decorator\n",
    "def my_function(x, y):\n",
    "    return x + y\n",
    "\n",
    "result = my_function(3, 4)\n",
    "print(\"Result:\", result)\n"
   ]
  },
  {
   "cell_type": "markdown",
   "id": "ff983254-6440-4e91-896d-5e6b5be784e9",
   "metadata": {},
   "source": [
    "# 56  Create a decorator that preserves the metadata of the original function. "
   ]
  },
  {
   "cell_type": "code",
   "execution_count": null,
   "id": "2937ab25-e415-4d1e-b35e-90178601091c",
   "metadata": {},
   "outputs": [
    {
     "name": "stdout",
     "output_type": "stream",
     "text": [
      "my_function\n",
      "This is the original function.\n"
     ]
    }
   ],
   "source": [
    "from functools import wraps\n",
    "\n",
    "def decorator(func):\n",
    "    @wraps(func)\n",
    "    def wrapper(*args, **kwargs):\n",
    "        print(\"Decorator - Before function execution\")\n",
    "        result = func(*args, **kwargs)\n",
    "        print(\"Decorator - After function execution\")\n",
    "        return result\n",
    "    return wrapper\n",
    "\n",
    "@decorator\n",
    "def my_function():\n",
    "    \"\"\"This is the original function.\"\"\"\n",
    "    return \"Hello, World!\"\n",
    "\n",
    "print(my_function.__name__)\n",
    "print(my_function.__doc__)\n",
    "\n"
   ]
  },
  {
   "cell_type": "markdown",
   "id": "167b2721-7246-4504-9c53-09f9fac69566",
   "metadata": {},
   "source": [
    "# 57 Create a Python class Calculator with a static method add that takes in two numbers and returns their sum.\n"
   ]
  },
  {
   "cell_type": "code",
   "execution_count": null,
   "id": "571117b1-968b-4cf4-b326-4c473fada70c",
   "metadata": {},
   "outputs": [
    {
     "name": "stdout",
     "output_type": "stream",
     "text": [
      "8\n"
     ]
    }
   ],
   "source": [
    "class Calculator:\n",
    "    @staticmethod\n",
    "    def add(num1, num2):\n",
    "        return num1 + num2\n",
    " \n",
    "result = Calculator.add(5, 3)\n",
    "print(result)   \n"
   ]
  },
  {
   "cell_type": "markdown",
   "id": "38bdd3c6-2752-4172-b785-97e9f76fca99",
   "metadata": {},
   "source": [
    "# 58 Create a Python class Employee with a class method get_employee_count that returns the total number of employees created.\n"
   ]
  },
  {
   "cell_type": "markdown",
   "id": "e769e28b-d6ef-47da-b0be-dfaf08dfa4d2",
   "metadata": {},
   "source": [
    "class Employee:\n",
    "    employee_count = 0\n",
    "\n",
    "    def __init__(self, name):\n",
    "        self.name = name\n",
    "        Employee.employee_count += 1\n",
    "\n",
    "    @classmethod\n",
    "    def get_employee_count(cls):\n",
    "        return cls.employee_count\n",
    "\n",
    "\n",
    "emp1 = Employee(\"Alice\")\n",
    "emp2 = Employee(\"Bob\")\n",
    "print(Employee.get_employee_count())   "
   ]
  },
  {
   "cell_type": "markdown",
   "id": "2076c8ba-6e27-4c80-a63f-b13a6b4bf9a4",
   "metadata": {},
   "source": [
    "# 59 Create a Python class StringFormatter with a static method reverse_string that takes a string as input and returns its reverse.\n"
   ]
  },
  {
   "cell_type": "code",
   "execution_count": null,
   "id": "cecdb888-3bb6-4dd1-a30c-22faa0a62e1f",
   "metadata": {},
   "outputs": [
    {
     "name": "stdout",
     "output_type": "stream",
     "text": [
      "olleh\n"
     ]
    }
   ],
   "source": [
    "class StringFormatter:\n",
    "    @staticmethod\n",
    "    def reverse_string(input_string):\n",
    "        return input_string[::-1]\n",
    " \n",
    "reversed_string = StringFormatter.reverse_string(\"hello\")\n",
    "print(reversed_string)  \n"
   ]
  },
  {
   "cell_type": "markdown",
   "id": "ab46762a-13c3-4dfa-877e-1dbd0a8b56c2",
   "metadata": {},
   "source": [
    "# 60 Create a Python class Circle with a class method calculate_area that calculates the area of a circle given its radius."
   ]
  },
  {
   "cell_type": "code",
   "execution_count": null,
   "id": "a7cfeb7d-8eef-432a-951f-4640ddd6d26b",
   "metadata": {},
   "outputs": [
    {
     "name": "stdout",
     "output_type": "stream",
     "text": [
      "78.5\n"
     ]
    }
   ],
   "source": [
    "class Circle:\n",
    "    @classmethod\n",
    "    def calculate_area(cls, radius):\n",
    "        return 3.14 * radius ** 2\n",
    "\n",
    "# Example usage:\n",
    "area = Circle.calculate_area(5)\n",
    "print(area)   \n"
   ]
  },
  {
   "cell_type": "markdown",
   "id": "f6a6f2d1-a742-445e-bff6-6905dbc91d21",
   "metadata": {},
   "source": [
    "# 61 Create a Python class TemperatureConverter with a static method celsius_to_fahrenheit that converts Celsius to Fahrenheit."
   ]
  },
  {
   "cell_type": "code",
   "execution_count": null,
   "id": "a8e6bc66-73ab-4d35-81a5-4a119cb55956",
   "metadata": {},
   "outputs": [
    {
     "name": "stdout",
     "output_type": "stream",
     "text": [
      "86.0\n"
     ]
    }
   ],
   "source": [
    "class TemperatureConverter:\n",
    "    @staticmethod\n",
    "    def celsius_to_fahrenheit(celsius):\n",
    "        return (celsius * 9/5) + 32\n",
    " \n",
    "fahrenheit = TemperatureConverter.celsius_to_fahrenheit(30)   \n",
    "print(fahrenheit)   \n"
   ]
  },
  {
   "cell_type": "markdown",
   "id": "97c31686-7e1c-4957-9b82-cfc424b9a13b",
   "metadata": {},
   "source": [
    "# 62 What is the purpose of the __str__() method in Python classes? Provide an example."
   ]
  },
  {
   "cell_type": "code",
   "execution_count": null,
   "id": "c326349e-e025-4131-bb72-110c85bf3ccd",
   "metadata": {},
   "outputs": [
    {
     "name": "stdout",
     "output_type": "stream",
     "text": [
      "Toyota Camry\n"
     ]
    }
   ],
   "source": [
    "class Car:\n",
    "    def __init__(self, brand, model):\n",
    "        self.brand = brand\n",
    "        self.model = model\n",
    "\n",
    "    def __str__(self):\n",
    "        return f\"{self.brand} {self.model}\"\n",
    " \n",
    "my_car = Car(\"Toyota\", \"Camry\")\n",
    "\n",
    "\n",
    "print(my_car)"
   ]
  },
  {
   "cell_type": "markdown",
   "id": "9206621d-46ae-402e-9357-473a9f11683d",
   "metadata": {},
   "source": [
    "# 63  How does the __len__() method work in Python? Provide an example.\n"
   ]
  },
  {
   "cell_type": "code",
   "execution_count": null,
   "id": "85672acd-b62b-45fd-9ac5-732fb186d36e",
   "metadata": {},
   "outputs": [
    {
     "name": "stdout",
     "output_type": "stream",
     "text": [
      "5\n"
     ]
    }
   ],
   "source": [
    "#The __len__() method in Python is used to define the length of an object. It returns the length of the object when it is called.\n",
    "class MyList:\n",
    "    def __init__(self, data):\n",
    "        self.data = data\n",
    "\n",
    "    def __len__(self):\n",
    "        return len(self.data)\n",
    " \n",
    "my_list = MyList([1, 2, 3, 4, 5])\n",
    " \n",
    "length = len(my_list)\n",
    "print(length)   \n"
   ]
  },
  {
   "cell_type": "markdown",
   "id": "1b1de258-2233-4fcf-947c-a1da54651433",
   "metadata": {},
   "source": [
    "# 64 Explain the usage of the __add__() method in Python classes. Provide an example."
   ]
  },
  {
   "cell_type": "code",
   "execution_count": null,
   "id": "270bca92-0633-4a80-b6ed-64e0c3da6b9b",
   "metadata": {},
   "outputs": [
    {
     "name": "stdout",
     "output_type": "stream",
     "text": [
      "(4, 6)\n"
     ]
    }
   ],
   "source": [
    "# he __add__() method in Python classes is used to define the behavior of the addition operator (+) when applied to objects of a class. It allows you to customize how objects of your class can be added together.\n",
    "class Point:\n",
    "    def __init__(self, x, y):\n",
    "        self.x = x\n",
    "        self.y = y\n",
    "\n",
    "    def __add__(self, other):\n",
    "        return Point(self.x + other.x, self.y + other.y)\n",
    "\n",
    "    def __str__(self):\n",
    "        return f\"({self.x}, {self.y})\"\n",
    " \n",
    "point1 = Point(1, 2)\n",
    "point2 = Point(3, 4)\n",
    "\n",
    " \n",
    "result = point1 + point2\n",
    " \n",
    "print(result)   \n"
   ]
  },
  {
   "cell_type": "markdown",
   "id": "cafc62b4-cad3-4a28-9b24-c2345cdbd3b4",
   "metadata": {},
   "source": [
    "# 65 What is the purpose of the __getitem__() method in Python? Provide an example."
   ]
  },
  {
   "cell_type": "code",
   "execution_count": null,
   "id": "579eb39d-c0b9-4fe5-be67-529054dec0ec",
   "metadata": {},
   "outputs": [
    {
     "name": "stdout",
     "output_type": "stream",
     "text": [
      "1\n",
      "3\n",
      "5\n"
     ]
    }
   ],
   "source": [
    "# The __getitem__() method in Python is used to define the behavior of the indexing operator ([]) when applied to objects of a class. It allows you to access elements of an object as if it were a sequence or a mapping.\n",
    "class MyList:\n",
    "    def __init__(self, data):\n",
    "        self.data = data\n",
    "\n",
    "    def __getitem__(self, index):\n",
    "        return self.data[index]\n",
    " \n",
    "my_list = MyList([1, 2, 3, 4, 5])\n",
    " \n",
    "print(my_list[0])   \n",
    "print(my_list[2])  \n",
    "print(my_list[-1])   \n"
   ]
  },
  {
   "cell_type": "markdown",
   "id": "f086911a-484f-43ed-b4ff-70e2e6378495",
   "metadata": {},
   "source": [
    "# 66 Explain the usage of the __iter__() and __next__() methods in Python. Provide an example using iterators.\n"
   ]
  },
  {
   "cell_type": "code",
   "execution_count": 5,
   "id": "20b66f81-2cf1-424f-afdd-462e9538b27f",
   "metadata": {},
   "outputs": [
    {
     "name": "stdout",
     "output_type": "stream",
     "text": [
      "0\n",
      "1\n",
      "4\n",
      "9\n",
      "16\n"
     ]
    }
   ],
   "source": [
    "#The __iter__() and __next__() methods are used to implement iterators in Python. Iterators are objects that allow iteration over a collection of elements, such as lists, tuples, or custom objects.\n",
    "#The __iter__() method returns an iterator object itself. It is called when the iterator is initialized.\n",
    "#The __next__() method returns the next element in the iteration. It is called each time the next() function is called on the iterator.\n",
    "class Squares:\n",
    "    def __init__(self, limit):\n",
    "        self.limit = limit\n",
    "        self.n = 0\n",
    "\n",
    "    def __iter__(self):\n",
    "        return self\n",
    "\n",
    "    def __next__(self):\n",
    "        if self.n < self.limit:\n",
    "            square = self.n ** 2\n",
    "            self.n += 1\n",
    "            return square\n",
    "        else:\n",
    "            raise StopIteration\n",
    " \n",
    "squares_iterator = Squares(5)\n",
    "\n",
    " \n",
    "for square in squares_iterator:\n",
    "    print(square)\n",
    " \n"
   ]
  },
  {
   "cell_type": "markdown",
   "id": "0b0ba6bf-5491-4a8b-ae2d-3775691e9623",
   "metadata": {},
   "source": [
    " # 67 What is the purpose of a getter method in Python? Provide an example demonstrating the use of a getter method using property decorators."
   ]
  },
  {
   "cell_type": "code",
   "execution_count": 6,
   "id": "fd5b315b-ce9a-43f8-8a85-2a4c1543a345",
   "metadata": {},
   "outputs": [
    {
     "name": "stdout",
     "output_type": "stream",
     "text": [
      "Alice\n"
     ]
    }
   ],
   "source": [
    "#In Python, a getter method is used to retrieve the value of a private attribute of a class. It provides controlled access to the attribute, allowing manipulation or validation of the value before returning it. Getter methods are commonly used to enforce encapsulation and ensure data integrity.\n",
    "class Person:\n",
    "    def __init__(self, name):\n",
    "        self._name = name  \n",
    "\n",
    "    @property\n",
    "    def name(self):\n",
    "        return self._name   \n",
    " \n",
    "person = Person(\"Alice\")\n",
    " \n",
    "print(person.name)   \n"
   ]
  },
  {
   "cell_type": "markdown",
   "id": "fbc86213-4b2f-4c00-9234-4e2869253e6d",
   "metadata": {},
   "source": [
    "# 68 Explain the role of setter methods in Python. Demonstrate how to use a setter method to modify a class attribute using property decorators."
   ]
  },
  {
   "cell_type": "code",
   "execution_count": 7,
   "id": "1d6b9e43-a8e2-4d04-b336-e314f507be4d",
   "metadata": {},
   "outputs": [
    {
     "name": "stdout",
     "output_type": "stream",
     "text": [
      "Bob\n"
     ]
    }
   ],
   "source": [
    "#In Python, setter methods are used to modify the value of a private attribute of a class. They provide controlled access to the attribute, allowing validation or manipulation of the value before setting it. Setter methods are commonly used to enforce encapsulation and ensure data integrity by providing a controlled way to modify attribute values.\n",
    "class Person:\n",
    "    def __init__(self, name):\n",
    "        self._name = name   \n",
    "\n",
    "    @property\n",
    "    def name(self):\n",
    "        return self._name   \n",
    "    @name.setter\n",
    "    def name(self, value):\n",
    "    \n",
    "        self._name = value   \n",
    " \n",
    "person = Person(\"Alice\")\n",
    " \n",
    "person.name = \"Bob\"\n",
    " \n",
    "print(person.name)   "
   ]
  },
  {
   "cell_type": "markdown",
   "id": "46f5bb91-c00d-4b44-9270-584d51889017",
   "metadata": {},
   "source": [
    "# 69 What is the purpose of the @property decorator in Python? Provide an example illustrating its usage."
   ]
  },
  {
   "cell_type": "code",
   "execution_count": 8,
   "id": "a377e1bd-6af1-4f57-8d38-6c9512c7e279",
   "metadata": {},
   "outputs": [
    {
     "name": "stdout",
     "output_type": "stream",
     "text": [
      "5\n"
     ]
    }
   ],
   "source": [
    "#The @property decorator in Python is used to define properties on classes. It allows us to define methods that can be accessed like attributes, providing a way to control the access and modification of class attributes. This decorator is commonly used to implement getter methods.\n",
    "class Circle:\n",
    "    def __init__(self, radius):\n",
    "        self._radius = radius   \n",
    "\n",
    "    @property\n",
    "    def radius(self):\n",
    "        return self._radius   \n",
    " \n",
    "circle = Circle(5)\n",
    " \n",
    "print(circle.radius)   \n"
   ]
  },
  {
   "cell_type": "markdown",
   "id": "583b8f8e-45ee-41a1-875f-b44a7fca4442",
   "metadata": {},
   "source": [
    "# 70 The @deleter decorator in Python is not a built-in decorator. Instead, the correct decorator for deleting properties is @property with its corresponding deleter method."
   ]
  },
  {
   "cell_type": "code",
   "execution_count": 10,
   "id": "15527b8e-bca7-4ae1-982f-9bf787a42a58",
   "metadata": {},
   "outputs": [],
   "source": [
    "class MyClass:\n",
    "    def __init__(self):\n",
    "        self._x = None\n",
    "\n",
    "    @property\n",
    "    def x(self):\n",
    "        return self._x\n",
    "\n",
    "    @x.deleter\n",
    "    def x(self):\n",
    "        del self._x\n",
    "\n",
    " \n",
    "obj = MyClass()\n",
    " \n",
    "obj._x = 10\n",
    " \n",
    "del obj.x\n"
   ]
  },
  {
   "cell_type": "markdown",
   "id": "6bfba236-049d-4907-9533-c0bfe49baf7b",
   "metadata": {},
   "source": [
    "# 71 How does encapsulation relate to property decorators in Python? Provide an example showcasing encapsulation using property decorators."
   ]
  },
  {
   "cell_type": "code",
   "execution_count": 11,
   "id": "f95a056d-2bef-4320-8bce-575215122273",
   "metadata": {},
   "outputs": [
    {
     "name": "stdout",
     "output_type": "stream",
     "text": [
      "Name: Alice\n",
      "Age: 30\n",
      "Modified Name: Bob\n",
      "Modified Age: 25\n",
      "Error: Name must be a string.\n",
      "Error: Age must be a non-negative integer.\n"
     ]
    }
   ],
   "source": [
    "#Encapsulation in Python is the practice of bundling the data (attributes) and methods that operate on the data into a single unit, called a class. It involves restricting access to some of the object's components, typically by making attributes private and providing controlled access to them through methods. Property decorators in Python, such as @property, @getter, @setter, and @deleter, play a crucial role in encapsulation by providing controlled access to class attributes.\n",
    "\n",
    "class Person:\n",
    "    def __init__(self, name, age):\n",
    "        self._name = name\n",
    "        self._age = age\n",
    "\n",
    "    @property\n",
    "    def name(self):\n",
    "        return self._name\n",
    "\n",
    "    @name.setter\n",
    "    def name(self, value):\n",
    "        if isinstance(value, str):\n",
    "            self._name = value\n",
    "        else:\n",
    "            raise ValueError(\"Name must be a string.\")\n",
    "\n",
    "    @property\n",
    "    def age(self):\n",
    "        return self._age\n",
    "\n",
    "    @age.setter\n",
    "    def age(self, value):\n",
    "        if isinstance(value, int) and value >= 0:\n",
    "            self._age = value\n",
    "        else:\n",
    "            raise ValueError(\"Age must be a non-negative integer.\")\n",
    " \n",
    "person = Person(\"Alice\", 30)\n",
    " \n",
    "print(\"Name:\", person.name)   \n",
    "print(\"Age:\", person.age)     \n",
    " \n",
    "person.name = \"Bob\"\n",
    "person.age = 25\n",
    " \n",
    "print(\"Modified Name:\", person.name)   \n",
    "print(\"Modified Age:\", person.age)     \n",
    "try:\n",
    "    person.name = 100\n",
    "except ValueError as e:\n",
    "    print(\"Error:\", e)   \n",
    "\n",
    "try:\n",
    "    person.age = -5\n",
    "except ValueError as e:\n",
    "    print(\"Error:\", e)  "
   ]
  },
  {
   "cell_type": "code",
   "execution_count": null,
   "id": "971c72f2-5fcc-462e-9afb-a7accce46120",
   "metadata": {},
   "outputs": [],
   "source": []
  }
 ],
 "metadata": {
  "kernelspec": {
   "display_name": "Python 3 (ipykernel)",
   "language": "python",
   "name": "python3"
  },
  "language_info": {
   "codemirror_mode": {
    "name": "ipython",
    "version": 3
   },
   "file_extension": ".py",
   "mimetype": "text/x-python",
   "name": "python",
   "nbconvert_exporter": "python",
   "pygments_lexer": "ipython3",
   "version": "3.10.8"
  }
 },
 "nbformat": 4,
 "nbformat_minor": 5
}
